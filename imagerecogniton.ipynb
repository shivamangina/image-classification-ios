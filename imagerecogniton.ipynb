{
 "cells": [
  {
   "cell_type": "markdown",
   "id": "229d7053-3563-4a15-ad2d-d0a3760077cf",
   "metadata": {},
   "source": [
    "### Image classification"
   ]
  },
  {
   "cell_type": "code",
   "execution_count": null,
   "id": "3acd7a69-37f6-4b6a-ab4e-89cd31b77cc8",
   "metadata": {},
   "outputs": [],
   "source": [
    "# import statements\n",
    "import torch\n"
   ]
  },
  {
   "cell_type": "code",
   "execution_count": null,
   "id": "55bfb22c-fffa-4049-b4de-3eda6a5e8d93",
   "metadata": {},
   "outputs": [],
   "source": [
    "from datasets import load_dataset\n",
    "\n",
    "ds = load_dataset(\"Nattakarn/fruit-and-vegetable-image-recognition\")"
   ]
  },
  {
   "cell_type": "code",
   "execution_count": null,
   "id": "7a8fd720-3fa4-4823-8d15-cf94e1bd4300",
   "metadata": {},
   "outputs": [],
   "source": []
  }
 ],
 "metadata": {
  "kernelspec": {
   "display_name": "Python 3 (ipykernel)",
   "language": "python",
   "name": "python3"
  },
  "language_info": {
   "codemirror_mode": {
    "name": "ipython",
    "version": 3
   },
   "file_extension": ".py",
   "mimetype": "text/x-python",
   "name": "python",
   "nbconvert_exporter": "python",
   "pygments_lexer": "ipython3",
   "version": "3.12.4"
  }
 },
 "nbformat": 4,
 "nbformat_minor": 5
}
