{
 "cells": [
  {
   "cell_type": "code",
   "execution_count": 4,
   "id": "2f9e2493-33ad-40f6-b647-50322f5556c4",
   "metadata": {},
   "outputs": [],
   "source": [
    "# import dataset from the kaggle\n",
    "# use open datasets\n",
    "# https://www.kaggle.com/datasets/mssmartypants/rice-type-classification\n",
    "\n",
    "\n",
    "\n"
   ]
  },
  {
   "cell_type": "code",
   "execution_count": 5,
   "id": "c5280ac6-915e-46ec-a440-c85c254f7ca7",
   "metadata": {},
   "outputs": [],
   "source": [
    "# import the torch\n",
    "# import the torch.nn\n",
    "# import the optimizer - adam, uits, dataset, dataloader, torchsummary, traintestsplit , accuracy score from skit learn, matplotlib\n",
    "# pandas and numpy"
   ]
  },
  {
   "cell_type": "code",
   "execution_count": 6,
   "id": "3eecfef2-9d42-4e20-882a-ae77d9b4654a",
   "metadata": {},
   "outputs": [],
   "source": [
    "# pytorch that to use gpu as pytorch does not pick the cpu automatically"
   ]
  },
  {
   "cell_type": "code",
   "execution_count": 7,
   "id": "32763edb-23ff-457d-8172-3cb89561e742",
   "metadata": {},
   "outputs": [],
   "source": [
    "# load the data using the. pandas and prin the first 5 lines\n",
    "# drop the columns which rae not important ex id\n"
   ]
  },
  {
   "cell_type": "code",
   "execution_count": 8,
   "id": "c7df4494-336c-493e-b096-78a04e905d28",
   "metadata": {},
   "outputs": [],
   "source": [
    "# ? preprocess the data to get the better accuracy"
   ]
  },
  {
   "cell_type": "code",
   "execution_count": 9,
   "id": "0aeb1775-deac-4b9c-8abf-bd8e88f01f42",
   "metadata": {},
   "outputs": [],
   "source": [
    "#  normaliztion each column "
   ]
  },
  {
   "cell_type": "code",
   "execution_count": 10,
   "id": "8fe45115-6bf1-47ec-a21f-19968a871858",
   "metadata": {},
   "outputs": [],
   "source": [
    "# get the  X and Y "
   ]
  },
  {
   "cell_type": "code",
   "execution_count": 11,
   "id": "1cb077cc-e9a4-4b6f-b3c0-99a8671e9435",
   "metadata": {},
   "outputs": [],
   "source": [
    "# split the data to test,  val and train\n"
   ]
  },
  {
   "cell_type": "code",
   "execution_count": 13,
   "id": "db784211-2b0d-4a16-98ef-c8f4e594157c",
   "metadata": {},
   "outputs": [],
   "source": [
    "# create data object \n",
    "# use torch.tensor. to create X,Y\n",
    "# function to create \n",
    " # __len__\n",
    " # __getItem__\n",
    " #  \n"
   ]
  },
  {
   "cell_type": "code",
   "execution_count": 14,
   "id": "5c3e6f73-832f-4587-91a2-4569b1357d5e",
   "metadata": {},
   "outputs": [],
   "source": [
    "#  get the the dt set  using dataloder for batchsize and shuffle"
   ]
  },
  {
   "cell_type": "code",
   "execution_count": 15,
   "id": "73c166c7-e39f-4d1a-9e57-00498803b652",
   "metadata": {},
   "outputs": [],
   "source": [
    "# build the model\n",
    " # input layer, linear layer, sigmoid\n",
    " #  forward  model\n",
    "    "
   ]
  },
  {
   "cell_type": "code",
   "execution_count": 16,
   "id": "c0eedc2c-fb7f-4d3e-9665-dcbcf59b47df",
   "metadata": {},
   "outputs": [],
   "source": [
    "#  create the model----------------------"
   ]
  },
  {
   "cell_type": "code",
   "execution_count": 17,
   "id": "7e059ddc-9040-4c49-a710-358ea4830183",
   "metadata": {},
   "outputs": [],
   "source": [
    "# summar of the model "
   ]
  },
  {
   "cell_type": "code",
   "execution_count": 19,
   "id": "cafd4fee-9a76-4f56-be59-179d81b2efb0",
   "metadata": {},
   "outputs": [],
   "source": [
    "# BCELOSS\n",
    "# optimizoe\n",
    "# learning rate\n",
    "\n",
    "\n"
   ]
  },
  {
   "cell_type": "code",
   "execution_count": 22,
   "id": "342f7bfe-18f7-4680-943c-0cf9129cb27f",
   "metadata": {},
   "outputs": [],
   "source": [
    "# get this data from the trainging\n",
    "# total taining loss, accuracy\n",
    "# total validationloss, accuracy\n",
    "# for all the epochs\n"
   ]
  },
  {
   "cell_type": "code",
   "execution_count": null,
   "id": "011bf71f-ff47-4b56-babb-951db16537de",
   "metadata": {},
   "outputs": [],
   "source": [
    "# loop the data and  for 10 epochs and mke the prediction\n"
   ]
  }
 ],
 "metadata": {
  "kernelspec": {
   "display_name": "Python 3 (ipykernel)",
   "language": "python",
   "name": "python3"
  },
  "language_info": {
   "codemirror_mode": {
    "name": "ipython",
    "version": 3
   },
   "file_extension": ".py",
   "mimetype": "text/x-python",
   "name": "python",
   "nbconvert_exporter": "python",
   "pygments_lexer": "ipython3",
   "version": "3.11.7"
  }
 },
 "nbformat": 4,
 "nbformat_minor": 5
}
