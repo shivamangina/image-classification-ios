{
 "cells": [
  {
   "cell_type": "code",
   "execution_count": 1,
   "id": "d8a1b195-9cf2-472b-a560-3b6a89bf1ac1",
   "metadata": {},
   "outputs": [],
   "source": [
    "# import the https://www.kaggle.com/datasets/andrewmvd/animal-faces using opendatasets\n",
    "# import torch, torchvision, transforms, dataloader and dataset from utils\n",
    "# matplotlib., PIL, pandas, numpy,os Label Encoder\n",
    "\n",
    "\n"
   ]
  },
  {
   "cell_type": "code",
   "execution_count": null,
   "id": "951241d6-3910-4a0f-8306-0d9f36dba79c",
   "metadata": {},
   "outputs": [],
   "source": [
    "#  use gpu if possible                                            "
   ]
  }
 ],
 "metadata": {
  "kernelspec": {
   "display_name": "Python 3 (ipykernel)",
   "language": "python",
   "name": "python3"
  },
  "language_info": {
   "codemirror_mode": {
    "name": "ipython",
    "version": 3
   },
   "file_extension": ".py",
   "mimetype": "text/x-python",
   "name": "python",
   "nbconvert_exporter": "python",
   "pygments_lexer": "ipython3",
   "version": "3.11.7"
  }
 },
 "nbformat": 4,
 "nbformat_minor": 5
}
