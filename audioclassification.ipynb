{
 "cells": [
  {
   "cell_type": "code",
   "execution_count": 1,
   "id": "8c170c5d-4537-41b1-8e7e-ffd3d3ee5979",
   "metadata": {},
   "outputs": [],
   "source": [
    "#  download data set from opendatasets for audio classification\n",
    "\n"
   ]
  },
  {
   "cell_type": "code",
   "execution_count": 3,
   "id": "70e51e62-04d1-43c8-8706-1f7f19f23518",
   "metadata": {},
   "outputs": [],
   "source": [
    "# import torch\n",
    "#  import nn , optim -> Adam , librosa , dataset and dataloader\n",
    "# label encodder, plt, pandas numpy, os, time, resize from skimage.transform"
   ]
  },
  {
   "cell_type": "code",
   "execution_count": 4,
   "id": "a6f38b0a-2958-4e70-9f35-1d91e9d90eca",
   "metadata": {},
   "outputs": [],
   "source": [
    "#  if the cuda is present use gpu or cpu"
   ]
  },
  {
   "cell_type": "code",
   "execution_count": 6,
   "id": "e71b51d0-9349-4843-8c6d-6c22cf2f4e7b",
   "metadata": {},
   "outputs": [],
   "source": [
    "# read the data and create the dateset \n",
    "# print the first 5 records of the dataset"
   ]
  },
  {
   "cell_type": "code",
   "execution_count": 7,
   "id": "f81b5d90-7239-4c49-8dae-7ed78b718d2b",
   "metadata": {},
   "outputs": [],
   "source": [
    "# print the shape and count of the dataset"
   ]
  },
  {
   "cell_type": "code",
   "execution_count": 8,
   "id": "500dcbfa-6a5a-496e-bb0c-0b50b7f0d9c6",
   "metadata": {},
   "outputs": [],
   "source": [
    "# create a piechart of the data distribution -"
   ]
  },
  {
   "cell_type": "code",
   "execution_count": 9,
   "id": "0d0d8041-78bd-4fc8-b5a6-deae2e3a87bc",
   "metadata": {},
   "outputs": [],
   "source": [
    "#  create the data  test,train data set 70 and 30 split\n",
    "# \n"
   ]
  },
  {
   "cell_type": "code",
   "execution_count": 10,
   "id": "f06b0508-5df8-4643-8b02-65ac496adcc7",
   "metadata": {},
   "outputs": [],
   "source": [
    "# create a CustomAudioDataSet\n",
    "# dataframe\n",
    "# labels\n",
    "# audios\n",
    "# __len__\n",
    "# __getitem__\n",
    "# get_spectogram -  use librosa\n",
    "#   "
   ]
  },
  {
   "cell_type": "code",
   "execution_count": null,
   "id": "00f1d3aa-4636-4008-9531-3cd7e74b4c8f",
   "metadata": {},
   "outputs": [],
   "source": [
    "# create a train, val and test from custom dataset"
   ]
  },
  {
   "cell_type": "code",
   "execution_count": 11,
   "id": "230a99b7-a387-46bf-95d3-df30842bc7b0",
   "metadata": {},
   "outputs": [],
   "source": [
    "#  learning rate , batchsize , epochs\n",
    "# train_loader, val_loder and testloader"
   ]
  },
  {
   "cell_type": "code",
   "execution_count": 12,
   "id": "0b669e53-420b-4bf9-ad09-b38f0398775b",
   "metadata": {},
   "outputs": [],
   "source": [
    "#  create class NET()\n",
    "    # nn.Conv2d\n",
    "    # "
   ]
  },
  {
   "cell_type": "code",
   "execution_count": 13,
   "id": "82a7776c-9e8d-4180-8665-5e8465156e9a",
   "metadata": {},
   "outputs": [],
   "source": [
    "# torch summary"
   ]
  },
  {
   "cell_type": "code",
   "execution_count": 17,
   "id": "acfbbad5-0fe0-40c8-a1eb-d5c9098f1763",
   "metadata": {},
   "outputs": [],
   "source": [
    "# criteration\n",
    "# optimizer"
   ]
  },
  {
   "cell_type": "code",
   "execution_count": null,
   "id": "eec796ac-0462-4781-b509-8fba5960f430",
   "metadata": {},
   "outputs": [],
   "source": [
    "#  run the model for all the epochs"
   ]
  },
  {
   "cell_type": "code",
   "execution_count": null,
   "id": "8b9243eb-6e6c-435a-b679-7270d48ed843",
   "metadata": {},
   "outputs": [],
   "source": [
    "# plot total loss and total accuracy"
   ]
  }
 ],
 "metadata": {
  "kernelspec": {
   "display_name": "Python 3 (ipykernel)",
   "language": "python",
   "name": "python3"
  },
  "language_info": {
   "codemirror_mode": {
    "name": "ipython",
    "version": 3
   },
   "file_extension": ".py",
   "mimetype": "text/x-python",
   "name": "python",
   "nbconvert_exporter": "python",
   "pygments_lexer": "ipython3",
   "version": "3.11.7"
  }
 },
 "nbformat": 4,
 "nbformat_minor": 5
}
